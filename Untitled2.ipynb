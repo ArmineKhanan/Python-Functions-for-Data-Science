{
  "nbformat": 4,
  "nbformat_minor": 0,
  "metadata": {
    "colab": {
      "provenance": [],
      "authorship_tag": "ABX9TyOW/XbMenE9Waf57ioyxcEJ",
      "include_colab_link": true
    },
    "kernelspec": {
      "name": "python3",
      "display_name": "Python 3"
    },
    "language_info": {
      "name": "python"
    }
  },
  "cells": [
    {
      "cell_type": "markdown",
      "metadata": {
        "id": "view-in-github",
        "colab_type": "text"
      },
      "source": [
        "<a href=\"https://colab.research.google.com/github/ArmineKhanan/Python-Functions-for-Data-Science/blob/main/Untitled2.ipynb\" target=\"_parent\"><img src=\"https://colab.research.google.com/assets/colab-badge.svg\" alt=\"Open In Colab\"/></a>"
      ]
    },
    {
      "cell_type": "code",
      "execution_count": 3,
      "metadata": {
        "id": "_sIiUiQh4FgF"
      },
      "outputs": [],
      "source": [
        "# import pandas & numpy libraries\n",
        "import pandas as pd\n",
        "import numpy as np\n",
        "\n",
        "# import linalg & stats module of scipy library\n",
        "from scipy import linalg\n",
        "from scipy import stats"
      ]
    },
    {
      "cell_type": "markdown",
      "source": [
        "**Lenear Algebra**"
      ],
      "metadata": {
        "id": "BB4UIxwn5c9Z"
      }
    },
    {
      "cell_type": "code",
      "source": [
        "# import linalg module of scipy library\n",
        "from scipy import linalg"
      ],
      "metadata": {
        "id": "SP9KqbhXaxZ5"
      },
      "execution_count": 11,
      "outputs": []
    },
    {
      "cell_type": "code",
      "source": [
        "# create an array\n",
        "arr = np.array([[1, 2],\n",
        "                [3, 4]])"
      ],
      "metadata": {
        "id": "2rjxH_kd4L-i"
      },
      "execution_count": 4,
      "outputs": []
    },
    {
      "cell_type": "code",
      "source": [
        "# calculate array determinant\n",
        "det = linalg.det(arr)\n",
        "det"
      ],
      "metadata": {
        "colab": {
          "base_uri": "https://localhost:8080/"
        },
        "id": "nA-TDO-G466_",
        "outputId": "e2503112-1c3f-4c94-9129-beaf61b983ac"
      },
      "execution_count": 5,
      "outputs": [
        {
          "output_type": "execute_result",
          "data": {
            "text/plain": [
              "np.float64(-2.0)"
            ]
          },
          "metadata": {},
          "execution_count": 5
        }
      ]
    },
    {
      "cell_type": "markdown",
      "source": [
        "[ A \\cdot A^{-1} = A^{-1} \\cdot A = I ]"
      ],
      "metadata": {
        "id": "Jd5Obub3__-r"
      }
    },
    {
      "cell_type": "code",
      "source": [
        "# compute inverse of arr\n",
        "inv = linalg.inv(arr)\n",
        "inv"
      ],
      "metadata": {
        "colab": {
          "base_uri": "https://localhost:8080/"
        },
        "id": "U-Qeb6eE5B6H",
        "outputId": "0192535d-3e69-4c27-8ef9-c0b8271a2df0"
      },
      "execution_count": 6,
      "outputs": [
        {
          "output_type": "execute_result",
          "data": {
            "text/plain": [
              "array([[-2. ,  1. ],\n",
              "       [ 1.5, -0.5]])"
            ]
          },
          "metadata": {},
          "execution_count": 6
        }
      ]
    },
    {
      "cell_type": "markdown",
      "source": [
        "**Sattitics**"
      ],
      "metadata": {
        "id": "vMc1fWON5lIi"
      }
    },
    {
      "cell_type": "markdown",
      "source": [
        "Binomial distribution\n",
        "( n = 10 ): This is the number of trials (or experiments). It indicates that there are 10 independent trials.\n",
        "( p = 0.4 ): This is the probability of success on each trial. It means that there is a 40% chance of success for each individual trial."
      ],
      "metadata": {
        "id": "fkZrBhLIZbuZ"
      }
    },
    {
      "cell_type": "code",
      "source": [
        "# import stats module of scipy library\n",
        "from scipy import stats"
      ],
      "metadata": {
        "id": "MdGO7vZWa5Oj"
      },
      "execution_count": 39,
      "outputs": []
    },
    {
      "cell_type": "code",
      "source": [
        "# Declare B to be Binomial distribution variable, n - number of trials  p - success on each trial\n",
        "B = stats.binom(n = 10, p = 0.4)"
      ],
      "metadata": {
        "id": "02aXJ8bk5MCp"
      },
      "execution_count": 40,
      "outputs": []
    },
    {
      "cell_type": "code",
      "source": [
        "# Calculate probability mass function at 2 (i.e. Probability of getting exactly 2) successes\n",
        "B.pmf(2)"
      ],
      "metadata": {
        "colab": {
          "base_uri": "https://localhost:8080/"
        },
        "id": "9o1ru53OZ7Sr",
        "outputId": "f7fd5538-bed3-48c8-a559-b906ff89324d"
      },
      "execution_count": 41,
      "outputs": [
        {
          "output_type": "execute_result",
          "data": {
            "text/plain": [
              "np.float64(0.12093235199999991)"
            ]
          },
          "metadata": {},
          "execution_count": 41
        }
      ]
    },
    {
      "cell_type": "code",
      "source": [
        "# Calculate cummulative distribution function at 3\n",
        "B.cdf(3)"
      ],
      "metadata": {
        "colab": {
          "base_uri": "https://localhost:8080/"
        },
        "id": "R8VtQIxraVte",
        "outputId": "10e2325c-22ca-4567-b2ee-d4663646cb76"
      },
      "execution_count": 42,
      "outputs": [
        {
          "output_type": "execute_result",
          "data": {
            "text/plain": [
              "np.float64(0.3822806015999999)"
            ]
          },
          "metadata": {},
          "execution_count": 42
        }
      ]
    },
    {
      "cell_type": "code",
      "source": [
        "B.pmf(0) + B.pmf(1) + B.pmf(2) + B.pmf(3)"
      ],
      "metadata": {
        "colab": {
          "base_uri": "https://localhost:8080/"
        },
        "id": "OErQ3J71b-gk",
        "outputId": "e7ffc11a-0f41-4a5e-977a-b8ec81a1da4e"
      },
      "execution_count": 43,
      "outputs": [
        {
          "output_type": "execute_result",
          "data": {
            "text/plain": [
              "np.float64(0.38228060159999955)"
            ]
          },
          "metadata": {},
          "execution_count": 43
        }
      ]
    },
    {
      "cell_type": "code",
      "source": [
        "# double check\n",
        "is_equal = np.isclose(B.cdf(3), B.pmf(0) + B.pmf(1) + B.pmf(2) + B.pmf(3))\n",
        "is_equal"
      ],
      "metadata": {
        "colab": {
          "base_uri": "https://localhost:8080/"
        },
        "id": "MGKmfb7fdHIp",
        "outputId": "f81819da-f630-407e-9281-bbc371ef44fc"
      },
      "execution_count": 49,
      "outputs": [
        {
          "output_type": "execute_result",
          "data": {
            "text/plain": [
              "np.True_"
            ]
          },
          "metadata": {},
          "execution_count": 49
        }
      ]
    },
    {
      "cell_type": "code",
      "source": [],
      "metadata": {
        "colab": {
          "base_uri": "https://localhost:8080/"
        },
        "id": "lijziVtWdx3g",
        "outputId": "8c718088-5d85-41cf-b8c0-b20b1efffcbc"
      },
      "execution_count": 45,
      "outputs": [
        {
          "output_type": "stream",
          "name": "stdout",
          "text": [
            "True\n"
          ]
        }
      ]
    },
    {
      "cell_type": "code",
      "source": [
        "# Declare P to be Poisson distribution variable, mu - parameter that represents the average rate of occurrence of events in a given interval of time or space\n",
        "P = stats.poisson(mu=2)"
      ],
      "metadata": {
        "id": "ZAeEBasFeahm"
      },
      "execution_count": 60,
      "outputs": []
    },
    {
      "cell_type": "code",
      "source": [
        "# Calculate probability mass function at 2, Probability of observing exactly 2 events\n",
        "P.pmf(1)\n"
      ],
      "metadata": {
        "colab": {
          "base_uri": "https://localhost:8080/"
        },
        "id": "GNeY4b0dgqG1",
        "outputId": "3318ec65-cdfb-458b-85b4-55ad80efaf55"
      },
      "execution_count": 73,
      "outputs": [
        {
          "output_type": "execute_result",
          "data": {
            "text/plain": [
              "np.float64(0.2706705664732254)"
            ]
          },
          "metadata": {},
          "execution_count": 73
        }
      ]
    },
    {
      "cell_type": "code",
      "source": [
        "# Calculate cumulative distribution function at 2\n",
        "P.cdf(1)"
      ],
      "metadata": {
        "colab": {
          "base_uri": "https://localhost:8080/"
        },
        "id": "Ze4dK43_g850",
        "outputId": "960abe3b-62a8-42e1-9a12-5178cf6c1be9"
      },
      "execution_count": 64,
      "outputs": [
        {
          "output_type": "execute_result",
          "data": {
            "text/plain": [
              "np.float64(0.40600584970983794)"
            ]
          },
          "metadata": {},
          "execution_count": 64
        }
      ]
    },
    {
      "cell_type": "code",
      "source": [
        "# Declare G to be geometric discrete random variable woth parameter 0.4\n",
        "G = stats.geom(p=0.4)\n"
      ],
      "metadata": {
        "id": "nhIclNDqhUjf"
      },
      "execution_count": 74,
      "outputs": []
    },
    {
      "cell_type": "code",
      "source": [
        "# Compute probability mass function at 2\n",
        "G.pmf(2)"
      ],
      "metadata": {
        "colab": {
          "base_uri": "https://localhost:8080/"
        },
        "id": "TODaE6HTi8qB",
        "outputId": "6d2238a6-e765-4b00-e752-1b90583439bd"
      },
      "execution_count": 75,
      "outputs": [
        {
          "output_type": "execute_result",
          "data": {
            "text/plain": [
              "np.float64(0.24)"
            ]
          },
          "metadata": {},
          "execution_count": 75
        }
      ]
    },
    {
      "cell_type": "code",
      "source": [
        "# Cumpute cumulative distribution function at 3\n",
        "G.cdf(3)"
      ],
      "metadata": {
        "colab": {
          "base_uri": "https://localhost:8080/"
        },
        "id": "JUAnJBoujM5d",
        "outputId": "0e9bee07-a82b-487f-b82f-e2510651ac57"
      },
      "execution_count": 77,
      "outputs": [
        {
          "output_type": "execute_result",
          "data": {
            "text/plain": [
              "np.float64(0.784)"
            ]
          },
          "metadata": {},
          "execution_count": 77
        }
      ]
    },
    {
      "cell_type": "code",
      "source": [
        "# Declare N to be normal continuous random variable with parameters 0 and 1\n",
        "N = stats.norm(loc=0, scale=1)\n"
      ],
      "metadata": {
        "id": "oADSJzcMjV2w"
      },
      "execution_count": 78,
      "outputs": []
    },
    {
      "cell_type": "code",
      "source": [
        "# Compute probability density at 0.2\n",
        "N.pdf(0.2)"
      ],
      "metadata": {
        "colab": {
          "base_uri": "https://localhost:8080/"
        },
        "id": "pe9mPTiij4hj",
        "outputId": "65df4b2b-5126-4beb-9035-f792f5c21354"
      },
      "execution_count": 79,
      "outputs": [
        {
          "output_type": "execute_result",
          "data": {
            "text/plain": [
              "np.float64(0.3910426939754559)"
            ]
          },
          "metadata": {},
          "execution_count": 79
        }
      ]
    },
    {
      "cell_type": "code",
      "source": [
        "# Compute cumulative density at -0.2\n",
        "N.cdf(-0.2)"
      ],
      "metadata": {
        "colab": {
          "base_uri": "https://localhost:8080/"
        },
        "id": "r2--T3OukQ0C",
        "outputId": "bcaf7d18-7649-4f67-9ae0-8798b74ae9f9"
      },
      "execution_count": 81,
      "outputs": [
        {
          "output_type": "execute_result",
          "data": {
            "text/plain": [
              "np.float64(0.42074029056089696)"
            ]
          },
          "metadata": {},
          "execution_count": 81
        }
      ]
    },
    {
      "cell_type": "code",
      "source": [
        "# Declare E to be exonantial cantinuous random variable with parameter 4\n",
        "E = stats.expon(scale=1/4)"
      ],
      "metadata": {
        "id": "s2FXm1Emkbew"
      },
      "execution_count": 82,
      "outputs": []
    },
    {
      "cell_type": "code",
      "source": [
        "# compute its probability density at 0.6\n",
        "E.pdf(0.6)"
      ],
      "metadata": {
        "colab": {
          "base_uri": "https://localhost:8080/"
        },
        "id": "Z2Kxf3rBl1Di",
        "outputId": "a28f1d84-1439-4064-e46b-3848accb4e56"
      },
      "execution_count": 84,
      "outputs": [
        {
          "output_type": "execute_result",
          "data": {
            "text/plain": [
              "np.float64(0.36287181315765005)"
            ]
          },
          "metadata": {},
          "execution_count": 84
        }
      ]
    },
    {
      "cell_type": "code",
      "source": [
        "# Declare b as beta continuous random variable\n",
        "X = stats.beta(a=1, b=3)"
      ],
      "metadata": {
        "id": "zwJ0uSb0mGcr"
      },
      "execution_count": 92,
      "outputs": []
    },
    {
      "cell_type": "code",
      "source": [
        "# Compute it probability density at 0.6\n",
        "X.pdf(0.6)"
      ],
      "metadata": {
        "colab": {
          "base_uri": "https://localhost:8080/"
        },
        "id": "zCjkSni2mfiz",
        "outputId": "4abac0c7-6a2d-464c-fc08-7c63634310b9"
      },
      "execution_count": 95,
      "outputs": [
        {
          "output_type": "execute_result",
          "data": {
            "text/plain": [
              "np.float64(0.48000000000000004)"
            ]
          },
          "metadata": {},
          "execution_count": 95
        }
      ]
    },
    {
      "cell_type": "code",
      "source": [
        "# Compute it cumulative density at 0.5\n",
        "X.cdf(0.5)\n"
      ],
      "metadata": {
        "colab": {
          "base_uri": "https://localhost:8080/"
        },
        "id": "Uum1s0ojmsad",
        "outputId": "a4a89836-6463-46a6-e0b9-a192207171db"
      },
      "execution_count": 96,
      "outputs": [
        {
          "output_type": "execute_result",
          "data": {
            "text/plain": [
              "np.float64(0.875)"
            ]
          },
          "metadata": {},
          "execution_count": 96
        }
      ]
    },
    {
      "cell_type": "code",
      "source": [],
      "metadata": {
        "id": "UrQc_orpm4oV"
      },
      "execution_count": null,
      "outputs": []
    }
  ]
}